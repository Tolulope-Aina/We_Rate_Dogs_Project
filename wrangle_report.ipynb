{
 "cells": [
  {
   "cell_type": "markdown",
   "metadata": {},
   "source": [
    "## DATA WRANGLING REPORT"
   ]
  },
  {
   "cell_type": "markdown",
   "metadata": {},
   "source": [
    "### Dataset: WeRateDogs Twitter Data"
   ]
  },
  {
   "cell_type": "markdown",
   "metadata": {},
   "source": [
    "### Data Gathering"
   ]
  },
  {
   "cell_type": "markdown",
   "metadata": {},
   "source": [
    "All three pieces of data pertaining to this project have been loaded into a Jupyter notebook titled wrangle_act.ipynb:\n",
    "\n",
    "1. The WeRateDogs Twitter archive data (twitter_archive_enhanced.csv), that was made available from the **Udacity** classroom\n",
    "and downloaded manually\n",
    "\n",
    "2. The tweet image prediction file (image_predictions.tsv) available on the **Udacity** server and downloaded programatically\n",
    "using the Requests library and the URL: 'https://d17h27t6h515a5.cloudfront.net/topher/2017/August/599fd2ad_image-predictions/image-predictions.tsv'\n",
    "\n",
    "3. The cell tweet_json file available on the **Udacity** classroom and downloaded programmatically\n"
   ]
  },
  {
   "cell_type": "markdown",
   "metadata": {},
   "source": [
    "### Assessing Data"
   ]
  },
  {
   "cell_type": "markdown",
   "metadata": {},
   "source": [
    "### Issues Detected:"
   ]
  },
  {
   "cell_type": "markdown",
   "metadata": {},
   "source": [
    "The observations from the visual and programmatic assessments carried out and the subsequent issues detected are listed below:"
   ]
  },
  {
   "cell_type": "markdown",
   "metadata": {},
   "source": [
    "### Quality issues"
   ]
  },
  {
   "cell_type": "markdown",
   "metadata": {},
   "source": [
    "1. In `archive_data`, **name** column contains invalid data values that are not names\n",
    "\n",
    "2. In `archive_data`, **name** column as missing data as 'None'\n",
    "\n",
    "3. In `archive_data`, **source** column contains HTML residues\n",
    "\n",
    "4. In `archive_data`, **tweet_id** and **timestamp** columns are in wrong datatypes\n",
    "\n",
    "5. `archive_data` dataset contains retweets, which for the purpose of this analysis constitute a data quality issue\n",
    "\n",
    "6. In `image_data`, words adjoined together with underscores in columns **p1**, **p2**, **p3**\n",
    "\n",
    "7. In `image_data`, **tweet_id** column is in wrong datatype\n",
    "\n",
    "8. In `tweet_data_extra`, **tweet_id** column is in wrong datatype"
   ]
  },
  {
   "cell_type": "markdown",
   "metadata": {},
   "source": [
    "### Tidiness issues"
   ]
  },
  {
   "cell_type": "markdown",
   "metadata": {},
   "source": [
    "9. In `archive_data`, one variable i.e. the type of dog(or dog stage) is represent across four columns i.e. **doggo**, **floofer**, **pupper** and **puppo**\n",
    "\n",
    "10. `tweet_data_extra`, `archive_data` and `image_data` should be merged into one dataset"
   ]
  },
  {
   "cell_type": "markdown",
   "metadata": {},
   "source": [
    "### Cleaning Data"
   ]
  },
  {
   "cell_type": "markdown",
   "metadata": {},
   "source": [
    "1. Removed all invalid values for **name**\n",
    "2. Replaced all 'None' entries with NaN \n",
    "3. Removed all HTML residues from **source** column\n",
    "4. Converted **tweet_id** and **timestamp** to correct/accurate datatypes\n",
    "5. Removed retweeted entries leaving only original tweets\n",
    "6. Removed the underscore character from entries in the **p1**, **p2**, **p3** columns\n",
    "7. Converted **tweet_id** to correct datatype\n",
    "8. Converted **tweet_id** to correct datatype\n",
    "9. Combined the **doggo**, **floofer**, **pupper**, and **puppo** columns into a single column before dropping them. All 'None' entries will be converted to NaNs.\n",
    "10. Merge the three DataFrames into one master DataFrame"
   ]
  },
  {
   "cell_type": "markdown",
   "metadata": {},
   "source": [
    "### Storing Data"
   ]
  },
  {
   "cell_type": "markdown",
   "metadata": {},
   "source": [
    "The master dataset was saved to a CSV file named \"twitter_archive_master.csv\"."
   ]
  }
 ],
 "metadata": {
  "kernelspec": {
   "display_name": "Python 3",
   "language": "python",
   "name": "python3"
  },
  "language_info": {
   "codemirror_mode": {
    "name": "ipython",
    "version": 3
   },
   "file_extension": ".py",
   "mimetype": "text/x-python",
   "name": "python",
   "nbconvert_exporter": "python",
   "pygments_lexer": "ipython3",
   "version": "3.6.3"
  }
 },
 "nbformat": 4,
 "nbformat_minor": 2
}
